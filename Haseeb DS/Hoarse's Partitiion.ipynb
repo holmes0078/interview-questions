{
 "cells": [
  {
   "cell_type": "code",
   "execution_count": 28,
   "metadata": {
    "collapsed": false
   },
   "outputs": [],
   "source": [
    "def quicksort(A, lo, hi):\n",
    "    if lo < hi:\n",
    "        p = hoarse_partition(A, lo, hi)\n",
    "        print lo, p, hi\n",
    "        quicksort(A, lo, p)\n",
    "        quicksort(A, p + 1, hi)\n",
    "\n",
    "def hoarse_partition(A, lo, hi):\n",
    "    x = A[lo]\n",
    "    i = lo - 1\n",
    "    j = hi + 1\n",
    "    while True:\n",
    "        \n",
    "        # Acting as a do-while loop\n",
    "        i += 1\n",
    "        while A[i] < x:    \n",
    "            i += 1\n",
    "        \n",
    "        # Acting as a do-while loop\n",
    "        j -= 1\n",
    "        while A[j] > x:\n",
    "            j -= 1\n",
    "       \n",
    "        if i >= j:\n",
    "            return j\n",
    "                \n",
    "        A[i], A[j] = A[j], A[i]"
   ]
  },
  {
   "cell_type": "code",
   "execution_count": 29,
   "metadata": {
    "collapsed": false
   },
   "outputs": [
    {
     "name": "stdout",
     "output_type": "stream",
     "text": [
      "0 8 11\n",
      "0 6 8\n",
      "0 0 6\n",
      "1 2 6\n",
      "1 1 2\n",
      "3 5 6\n",
      "3 3 5\n",
      "4 4 5\n",
      "7 7 8\n",
      "9 10 11\n",
      "9 9 10\n"
     ]
    }
   ],
   "source": [
    "A = [13, 19, 9, 12, 8, 7, 5, 4, 2, 6, 11, 14]\n",
    "quicksort(A, 0, len(A) - 1)"
   ]
  },
  {
   "cell_type": "code",
   "execution_count": 27,
   "metadata": {
    "collapsed": false
   },
   "outputs": [
    {
     "data": {
      "text/plain": [
       "[2, 4, 5, 6, 7, 8, 9, 11, 12, 13, 14, 19]"
      ]
     },
     "execution_count": 27,
     "metadata": {},
     "output_type": "execute_result"
    }
   ],
   "source": [
    "A"
   ]
  }
 ],
 "metadata": {
  "kernelspec": {
   "display_name": "Python 2",
   "language": "python",
   "name": "python2"
  },
  "language_info": {
   "codemirror_mode": {
    "name": "ipython",
    "version": 2
   },
   "file_extension": ".py",
   "mimetype": "text/x-python",
   "name": "python",
   "nbconvert_exporter": "python",
   "pygments_lexer": "ipython2",
   "version": "2.7.13"
  }
 },
 "nbformat": 4,
 "nbformat_minor": 2
}
