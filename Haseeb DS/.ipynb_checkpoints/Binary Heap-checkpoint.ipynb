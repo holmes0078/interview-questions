{
 "cells": [
  {
   "cell_type": "code",
   "execution_count": 94,
   "metadata": {},
   "outputs": [
    {
     "data": {
      "text/plain": [
       "'1 5 3 7 9 '"
      ]
     },
     "execution_count": 94,
     "metadata": {},
     "output_type": "execute_result"
    }
   ],
   "source": [
    "class binaryHeap(object):\n",
    "    \n",
    "    def __init__(self):\n",
    "        self._items = [None]\n",
    "        \n",
    "    def insert(self, ele):\n",
    "        if ele not in self._items:\n",
    "            self._items.append(ele)\n",
    "            last_index = len(self._items) - 1\n",
    "#             print self._items[last_index]\n",
    "            self.percolate_up(last_index)\n",
    "        else:\n",
    "            raise ValueError(str(ele) + \" already present in heap\")\n",
    "    \n",
    "    def extract_min(self):\n",
    "        min_ele = self._items[1]\n",
    "        last_index = len(self._items)-1\n",
    "        self._items[1] = self._items[last_index]\n",
    "        del self._items[last_index]\n",
    "        self.percolate_down(1)\n",
    "        return min_ele\n",
    "    \n",
    "    def swap(self, index_one, index_two):\n",
    "        temp = self._items[index_one]\n",
    "        self._items[index_one] = self._items[index_two]\n",
    "        self._items[index_two] = temp\n",
    "        \n",
    "    def percolate_up(self, minimum):\n",
    "        if 1 < minimum <= len(self._items) - 1:\n",
    "            l_index = minimum\n",
    "            parent = minimum/2\n",
    "            if self._items[parent] > self._items[l_index]:\n",
    "                self.swap(l_index, parent)\n",
    "                self.percolate_up(parent)\n",
    "                \n",
    "    def percolate_down(self, parent_idx):\n",
    "        if 1 <= parent_idx <= len(self._items):\n",
    "            minimum = parent_idx\n",
    "            left_child = 2 * parent_idx\n",
    "            right_child = (2 * parent_idx) + 1\n",
    "            if left_child < len(self._items):    \n",
    "                if self._items[left_child] < self._items[parent_idx]:\n",
    "                    minimum = left_child\n",
    "            if right_child < len(self._items):     \n",
    "                if self._items[right_child] < self._items[parent_idx]:\n",
    "                    minimum = right_child\n",
    "    \n",
    "            if minimum != parent_idx:\n",
    "                self.swap(parent_idx, minimum)\n",
    "                self.percolate_down(minimum)\n",
    "    \n",
    "    def __repr__(self):\n",
    "        return_str = \"\"\n",
    "        for item in self._items:\n",
    "            if item != None:\n",
    "                return_str += str(item) + \" \"\n",
    "        return return_str\n",
    "\n",
    "bh = binaryHeap()\n",
    "\n",
    "bh.insert(5)\n",
    "bh.insert(3)\n",
    "bh.insert(1)\n",
    "bh.insert(7)\n",
    "bh.insert(9)\n",
    "bh.insert(0)\n",
    "repr(bh)\n",
    "bh.extract_min()\n",
    "repr(bh)"
   ]
  },
  {
   "cell_type": "code",
   "execution_count": null,
   "metadata": {
    "collapsed": true
   },
   "outputs": [],
   "source": []
  }
 ],
 "metadata": {
  "kernelspec": {
   "display_name": "Python 2",
   "language": "python",
   "name": "python2"
  },
  "language_info": {
   "codemirror_mode": {
    "name": "ipython",
    "version": 2
   },
   "file_extension": ".py",
   "mimetype": "text/x-python",
   "name": "python",
   "nbconvert_exporter": "python",
   "pygments_lexer": "ipython2",
   "version": "2.7.13"
  }
 },
 "nbformat": 4,
 "nbformat_minor": 2
}
