{
 "cells": [
  {
   "cell_type": "code",
   "execution_count": 9,
   "metadata": {
    "collapsed": true
   },
   "outputs": [],
   "source": [
    "from random import randint\n",
    "\n",
    "def RandomPartition(A, low, high):\n",
    "    \n",
    "    k = randint(low, high)\n",
    "    A[k], A[high] = A[high], A[k]\n",
    "    \n",
    "    pivot = A[high]\n",
    "    i = low - 1\n",
    "    \n",
    "    for j in range(low,high):\n",
    "        if A[j] <= pivot:\n",
    "            i += 1\n",
    "            A[i], A[j] = A[j], A[i]\n",
    "    \n",
    "    A[i+1], A[high] = A[high], A[i+1]        \n",
    "    \n",
    "    return i+1\n",
    "    \n",
    "def QuickSort(A, low, high):\n",
    "    \n",
    "    if low < high:\n",
    "        p = RandomPartition(A, low, high)\n",
    "        QuickSort(A, low, p-1)\n",
    "        QuickSort(A, p+1, high)\n",
    "    \n",
    "def main():\n",
    "    A = [1, 8, 9, 4, 2, 3, 5, 13, 12, 11]\n",
    "    QuickSort(A, 0, len(A)-1)\n",
    "    print A\n",
    "    "
   ]
  },
  {
   "cell_type": "code",
   "execution_count": 10,
   "metadata": {},
   "outputs": [
    {
     "name": "stdout",
     "output_type": "stream",
     "text": [
      "[1, 2, 3, 4, 5, 8, 9, 11, 12, 13]\n"
     ]
    }
   ],
   "source": [
    "main()"
   ]
  },
  {
   "cell_type": "code",
   "execution_count": null,
   "metadata": {
    "collapsed": true
   },
   "outputs": [],
   "source": []
  }
 ],
 "metadata": {
  "kernelspec": {
   "display_name": "Python 2",
   "language": "python",
   "name": "python2"
  },
  "language_info": {
   "codemirror_mode": {
    "name": "ipython",
    "version": 2
   },
   "file_extension": ".py",
   "mimetype": "text/x-python",
   "name": "python",
   "nbconvert_exporter": "python",
   "pygments_lexer": "ipython2",
   "version": "2.7.13"
  }
 },
 "nbformat": 4,
 "nbformat_minor": 2
}
