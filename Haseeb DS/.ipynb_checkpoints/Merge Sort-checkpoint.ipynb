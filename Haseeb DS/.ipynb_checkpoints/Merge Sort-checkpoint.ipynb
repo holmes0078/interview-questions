{
 "cells": [
  {
   "cell_type": "code",
   "execution_count": 76,
   "metadata": {
    "collapsed": true
   },
   "outputs": [],
   "source": [
    "def mergesort(A, first, last):\n",
    "    if last > first:\n",
    "        middle = (first + last)/2\n",
    "        mergesort(A, first, middle)\n",
    "        mergesort(A, middle + 1, last)\n",
    "        merge(A, first, middle, last)\n",
    "        \n",
    "def merge(A, first, middle, last):\n",
    "    arr_one = A[first:middle+1]\n",
    "    arr_two = A[middle+1:last+1]\n",
    "    \n",
    "    arr_one.append(None)\n",
    "    arr_two.append(None)\n",
    "    \n",
    "#     print arr_one, arr_two\n",
    "    \n",
    "    k = first\n",
    "    i = 0\n",
    "    j = 0\n",
    "    \n",
    "    while (arr_one[i] is not None) and (arr_two[j] is not None):\n",
    "#         print arr_one[i], arr_two[j]\n",
    "        if arr_one[i] < arr_two[j]:\n",
    "            A[k] = arr_one[i]\n",
    "            k += 1\n",
    "            i += 1\n",
    "        elif arr_one[i] > arr_two[j]:\n",
    "            A[k] = arr_two[j]\n",
    "            k += 1\n",
    "            j += 1\n",
    "    \n",
    "    while (arr_one[i] is not None):\n",
    "        A[k] = arr_one[i]\n",
    "        k += 1\n",
    "        i += 1\n",
    "        \n",
    "    while (arr_two[j] is not None):\n",
    "        A[k] = arr_two[j]\n",
    "        k += 1\n",
    "        j += 1    "
   ]
  },
  {
   "cell_type": "code",
   "execution_count": 77,
   "metadata": {
    "collapsed": true
   },
   "outputs": [],
   "source": [
    "def main():\n",
    "    A = [38, 27, 43, 3, 9, 82, 10]\n",
    "    mergesort(A, 0, len(A)-1)\n",
    "    print A"
   ]
  },
  {
   "cell_type": "code",
   "execution_count": 78,
   "metadata": {
    "collapsed": false
   },
   "outputs": [
    {
     "name": "stdout",
     "output_type": "stream",
     "text": [
      "[3, 9, 10, 27, 38, 43, 82]\n"
     ]
    }
   ],
   "source": [
    "if __name__ == \"__main__\":\n",
    "    main()"
   ]
  },
  {
   "cell_type": "code",
   "execution_count": null,
   "metadata": {
    "collapsed": true
   },
   "outputs": [],
   "source": []
  }
 ],
 "metadata": {
  "kernelspec": {
   "display_name": "Python 2",
   "language": "python",
   "name": "python2"
  },
  "language_info": {
   "codemirror_mode": {
    "name": "ipython",
    "version": 2
   },
   "file_extension": ".py",
   "mimetype": "text/x-python",
   "name": "python",
   "nbconvert_exporter": "python",
   "pygments_lexer": "ipython2",
   "version": "2.7.13"
  }
 },
 "nbformat": 4,
 "nbformat_minor": 2
}
