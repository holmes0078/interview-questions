{
 "cells": [
  {
   "cell_type": "code",
   "execution_count": 65,
   "metadata": {
    "collapsed": false
   },
   "outputs": [
    {
     "ename": "KeyError",
     "evalue": "'Tushar: No such key'",
     "output_type": "error",
     "traceback": [
      "\u001b[0;31m---------------------------------------------------------------------------\u001b[0m",
      "\u001b[0;31mKeyError\u001b[0m                                  Traceback (most recent call last)",
      "\u001b[0;32m<ipython-input-65-3bc68e6ea8b9>\u001b[0m in \u001b[0;36m<module>\u001b[0;34m()\u001b[0m\n\u001b[1;32m     54\u001b[0m \u001b[0mht\u001b[0m\u001b[0;34m.\u001b[0m\u001b[0minsert\u001b[0m\u001b[0;34m(\u001b[0m\u001b[0;34m'Chaitanya'\u001b[0m\u001b[0;34m,\u001b[0m \u001b[0;36m30\u001b[0m\u001b[0;34m)\u001b[0m\u001b[0;34m\u001b[0m\u001b[0m\n\u001b[1;32m     55\u001b[0m \u001b[0mht\u001b[0m\u001b[0;34m.\u001b[0m\u001b[0mremove\u001b[0m\u001b[0;34m(\u001b[0m\u001b[0;34m'Tushar'\u001b[0m\u001b[0;34m)\u001b[0m\u001b[0;34m\u001b[0m\u001b[0m\n\u001b[0;32m---> 56\u001b[0;31m \u001b[0mht\u001b[0m\u001b[0;34m.\u001b[0m\u001b[0mget\u001b[0m\u001b[0;34m(\u001b[0m\u001b[0;34m'Tushar'\u001b[0m\u001b[0;34m)\u001b[0m\u001b[0;34m\u001b[0m\u001b[0m\n\u001b[0m\u001b[1;32m     57\u001b[0m \u001b[0;31m# ht.get('Cat')\u001b[0m\u001b[0;34m\u001b[0m\u001b[0;34m\u001b[0m\u001b[0m\n",
      "\u001b[0;32m<ipython-input-65-3bc68e6ea8b9>\u001b[0m in \u001b[0;36mget\u001b[0;34m(self, key)\u001b[0m\n\u001b[1;32m     35\u001b[0m                     \u001b[0;32mraise\u001b[0m \u001b[0mKeyError\u001b[0m\u001b[0;34m(\u001b[0m\u001b[0mkey\u001b[0m \u001b[0;34m+\u001b[0m \u001b[0;34m': No such key'\u001b[0m\u001b[0;34m)\u001b[0m\u001b[0;34m\u001b[0m\u001b[0m\n\u001b[1;32m     36\u001b[0m         \u001b[0;32melse\u001b[0m\u001b[0;34m:\u001b[0m\u001b[0;34m\u001b[0m\u001b[0m\n\u001b[0;32m---> 37\u001b[0;31m             \u001b[0;32mraise\u001b[0m \u001b[0mKeyError\u001b[0m\u001b[0;34m(\u001b[0m\u001b[0mkey\u001b[0m \u001b[0;34m+\u001b[0m \u001b[0;34m': No such key'\u001b[0m\u001b[0;34m)\u001b[0m\u001b[0;34m\u001b[0m\u001b[0m\n\u001b[0m\u001b[1;32m     38\u001b[0m \u001b[0;34m\u001b[0m\u001b[0m\n\u001b[1;32m     39\u001b[0m \u001b[0;34m\u001b[0m\u001b[0m\n",
      "\u001b[0;31mKeyError\u001b[0m: 'Tushar: No such key'"
     ]
    }
   ],
   "source": [
    "class hashTable(object):\n",
    "    \n",
    "    def __init__(self, num_buckets=1000):\n",
    "        self.num_buckets = num_buckets \n",
    "        self._items = [[] for i in range(num_buckets)]\n",
    "        \n",
    "    def hashFunc(self, key):\n",
    "        return sum([ord(c) for c in key])  % len(self._items) \n",
    "    \n",
    "    def insert(self, key, value):\n",
    "        if not -1< self.hashFunc(key) <= self.num_buckets:\n",
    "            raise ValueError()\n",
    "        hash_num = self.hashFunc(key)\n",
    "        if not self._contains(key):\n",
    "            self._items[hash_num].append([key, value])\n",
    "        else:\n",
    "            raise KeyError(key + \" already present\")\n",
    "    \n",
    "    def _contains(self, key):\n",
    "        hash_num = self.hashFunc(key)\n",
    "        \n",
    "        for pair in self._items[hash_num]:\n",
    "            if key == pair[0]:\n",
    "                return True\n",
    "            else:\n",
    "                return False\n",
    "    \n",
    "    def get(self, key):\n",
    "        hash_num = self.hashFunc(key)\n",
    "        if self._items[hash_num]:\n",
    "            for pair in self._items[hash_num]:\n",
    "                if key == pair[0]:\n",
    "                    return pair\n",
    "                else:\n",
    "                    raise KeyError(key + ': No such key')\n",
    "        else:\n",
    "            raise KeyError(key + ': No such key')\n",
    "        \n",
    "    \n",
    "    def remove(self, key):\n",
    "        hash_num = self.hashFunc(key)\n",
    "        lst = self._items[hash_num]\n",
    "        for index, pair in enumerate(lst):\n",
    "            if key == pair[0]:\n",
    "                del lst[index] \n",
    "                return lst\n",
    "            else:\n",
    "                return None\n",
    "    \n",
    "ht = hashTable()\n",
    "\n",
    "ht.insert('Tushar', 10)\n",
    "ht.insert('Vishwajeet', 20)\n",
    "ht.insert('Chaitanya', 30)\n",
    "ht.remove('Tushar')\n",
    "ht.get('Tushar')\n",
    "# ht.get('Cat')\n"
   ]
  },
  {
   "cell_type": "code",
   "execution_count": null,
   "metadata": {
    "collapsed": true
   },
   "outputs": [],
   "source": []
  }
 ],
 "metadata": {
  "kernelspec": {
   "display_name": "Python 2",
   "language": "python",
   "name": "python2"
  },
  "language_info": {
   "codemirror_mode": {
    "name": "ipython",
    "version": 2
   },
   "file_extension": ".py",
   "mimetype": "text/x-python",
   "name": "python",
   "nbconvert_exporter": "python",
   "pygments_lexer": "ipython2",
   "version": "2.7.13"
  }
 },
 "nbformat": 4,
 "nbformat_minor": 2
}
