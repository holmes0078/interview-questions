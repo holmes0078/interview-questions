{
 "cells": [
  {
   "cell_type": "code",
   "execution_count": 55,
   "metadata": {},
   "outputs": [],
   "source": [
    "def binary_search(A, low, high, key):\n",
    "    if high >= low:\n",
    "        mid = (high+low)/2\n",
    "        if key == A[mid]:\n",
    "            return 'Key Found'\n",
    "        elif key > A[mid]:\n",
    "            return binary_search(A, mid+1, high, key)\n",
    "        elif key < A[mid]:\n",
    "            return binary_search(A, low, mid-1, key)     \n",
    "    else:\n",
    "        return 'Key not found'"
   ]
  },
  {
   "cell_type": "code",
   "execution_count": 56,
   "metadata": {
    "collapsed": true
   },
   "outputs": [],
   "source": [
    "def binary_search_iterative(A, key):\n",
    "    low = 0\n",
    "    high = len(A)-1\n",
    "    while high >= low:\n",
    "        mid = (high+low)/2\n",
    "        if key == A[mid]:\n",
    "            return 'Key Found'\n",
    "        elif key > A[mid]:\n",
    "            low = mid + 1\n",
    "        elif key < A[mid]:\n",
    "            high = mid - 1     \n",
    "    return 'Key not found'"
   ]
  },
  {
   "cell_type": "code",
   "execution_count": 62,
   "metadata": {},
   "outputs": [
    {
     "data": {
      "text/plain": [
       "'Key Found'"
      ]
     },
     "execution_count": 62,
     "metadata": {},
     "output_type": "execute_result"
    }
   ],
   "source": [
    "A = [9, 8, 7, 6, 5, 4, 3, 2, 1]\n",
    "\n",
    "key = 2\n",
    "\n",
    "# binary_search(sorted(A), 0, len(A)-1, key)\n",
    "\n",
    "binary_search_iterative(sorted(A), key)"
   ]
  },
  {
   "cell_type": "code",
   "execution_count": null,
   "metadata": {
    "collapsed": true
   },
   "outputs": [],
   "source": []
  }
 ],
 "metadata": {
  "kernelspec": {
   "display_name": "Python 2",
   "language": "python",
   "name": "python2"
  },
  "language_info": {
   "codemirror_mode": {
    "name": "ipython",
    "version": 2
   },
   "file_extension": ".py",
   "mimetype": "text/x-python",
   "name": "python",
   "nbconvert_exporter": "python",
   "pygments_lexer": "ipython2",
   "version": "2.7.13"
  }
 },
 "nbformat": 4,
 "nbformat_minor": 2
}
