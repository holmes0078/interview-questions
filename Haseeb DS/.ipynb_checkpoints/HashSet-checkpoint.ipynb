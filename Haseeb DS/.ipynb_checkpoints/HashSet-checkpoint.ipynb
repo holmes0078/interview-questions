{
 "cells": [
  {
   "cell_type": "code",
   "execution_count": 17,
   "metadata": {
    "collapsed": false
   },
   "outputs": [
    {
     "name": "stdout",
     "output_type": "stream",
     "text": [
      "0: 100\n",
      "1: 91,31\n",
      "2: 92\n",
      "3: 93\n",
      "4: 94\n",
      "5: 95\n",
      "6: 96\n",
      "7: 97\n",
      "8: 98\n",
      "9: 99\n",
      "\n"
     ]
    }
   ],
   "source": [
    "class hashSet(object):\n",
    "    def __init__(self, numBuckets): \n",
    "        '''\n",
    "        numBuckets: int. The number of buckets this hash set will have. \n",
    "        Raises ValueError if this value is not an integer, or if it is not greater than zero.\n",
    "    \n",
    "        Sets up an empty hash set with numBuckets number of buckets.\n",
    "        '''\n",
    "        if type(numBuckets) != int or numBuckets <= 0:\n",
    "            raise ValueError\n",
    "        self.NUM_BUCKETS = numBuckets\n",
    "        self.set = []\n",
    "        for i in range(self.NUM_BUCKETS):\n",
    "            self.set.append([])\n",
    "\n",
    "    def hashValue(self, e):\n",
    "        '''\n",
    "        e: an integer\n",
    "        returns: a hash value for e, which is simply e modulo the number of \n",
    "        buckets in this hash set. Raises ValueError if e is not an integer.\n",
    "        '''\n",
    "        if type(e) != int:\n",
    "            raise ValueError\n",
    "        return e % self.NUM_BUCKETS\n",
    "\n",
    "    def member(self, e):\n",
    "        '''\n",
    "        e: an integer\n",
    "        Returns True if e is in self, and False otherwise. Raises ValueError if e is not an integer.\n",
    "        '''\n",
    "        if type(e) != int:\n",
    "            raise ValueError\n",
    "        return e in self.set[self.hashValue(e)]\n",
    "\n",
    "    def insert(self, e):\n",
    "        '''\n",
    "        e: an integer\n",
    "        Inserts e into the appropriate hash bucket. Raises ValueError if e is not an integer.\n",
    "        ''' \n",
    "        if type(e) != int:\n",
    "            raise ValueError\n",
    "        if e not in self.set[self.hashValue(e)]:\n",
    "            self.set[self.hashValue(e)].append(e)\n",
    "\n",
    "    def remove(self, e):\n",
    "        '''\n",
    "        e: is an integer \n",
    "        Removes e from self\n",
    "        Raises ValueError if e is not in self or if e is not an integer.\n",
    "        ''' \n",
    "        if type(e) != int or not self.member(e): \n",
    "            raise ValueError\n",
    "        find = self.set[self.hashValue(e)]\n",
    "        del find[find.index(e)]\n",
    "    \n",
    "    def getNumBuckets(self):\n",
    "        '''\n",
    "        Returns number of buckets.\n",
    "        '''\n",
    "        return self.NUM_BUCKETS\n",
    "\n",
    "    def __str__(self):\n",
    "        '''\n",
    "        Returns string representation of data inside hash set.\n",
    "        '''\n",
    "        result = \"\"\n",
    "        bucketNr = 0\n",
    "        for bucket in self.set:\n",
    "            result += str(bucketNr) + \": \" + \",\".join(str(e) for e in bucket) + \"\\n\"\n",
    "            bucketNr += 1\n",
    "        return result\n",
    "\n",
    "hs = hashSet(10)\n",
    "hs.insert(100)\n",
    "hs.insert(99)\n",
    "hs.insert(98)\n",
    "hs.insert(92)\n",
    "hs.insert(93)\n",
    "hs.insert(94)\n",
    "hs.insert(95)\n",
    "hs.insert(96)\n",
    "hs.insert(97)\n",
    "hs.insert(91)\n",
    "hs.insert(31)\n",
    "print str(hs)"
   ]
  },
  {
   "cell_type": "code",
   "execution_count": null,
   "metadata": {
    "collapsed": true
   },
   "outputs": [],
   "source": []
  }
 ],
 "metadata": {
  "kernelspec": {
   "display_name": "Python 2",
   "language": "python",
   "name": "python2"
  },
  "language_info": {
   "codemirror_mode": {
    "name": "ipython",
    "version": 2
   },
   "file_extension": ".py",
   "mimetype": "text/x-python",
   "name": "python",
   "nbconvert_exporter": "python",
   "pygments_lexer": "ipython2",
   "version": "2.7.13"
  }
 },
 "nbformat": 4,
 "nbformat_minor": 2
}
