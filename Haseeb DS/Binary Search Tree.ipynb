{
 "cells": [
  {
   "cell_type": "code",
   "execution_count": 56,
   "metadata": {
    "collapsed": false
   },
   "outputs": [],
   "source": [
    "class Node(object):\n",
    "    def __init__(self, val):\n",
    "        self.value = val\n",
    "        self.left = None\n",
    "        self.right = None\n",
    "\n",
    "class binary_search_tree(object):\n",
    "    def __init__(self, val):\n",
    "        self.root = Node(val)\n",
    "\n",
    "    def insert(self, val):\n",
    "        rt = self.root\n",
    "        while True: \n",
    "            if val == rt.value:\n",
    "                raise ValueError(\"Key already present\")\n",
    "            elif val < rt.value:\n",
    "                if rt.left is not None:\n",
    "                    rt = rt.left\n",
    "                else:\n",
    "                    rt.left = Node(val)\n",
    "                    break\n",
    "            elif val > rt.value:    \n",
    "                if rt.right is not None:\n",
    "                    rt = rt.right         \n",
    "                else:\n",
    "                    rt.right = Node(val)\n",
    "                    break\n",
    "    \n",
    "#     def inorder_traversal(self):\n",
    "#         traversal = []\n",
    "#         rt = self.root\n",
    "#         traversal = self.traversal_helper(rt, traversal)\n",
    "#         return traversal\n",
    "    \n",
    "#     def traversal_helper(self, node, traversal):\n",
    "#         if node.left is not None:\n",
    "#             traversal = self.traversal_helper(node.left, traversal)\n",
    "    \n",
    "#         traversal.append(node.value)\n",
    "        \n",
    "#         if node.right is not None:\n",
    "#             traversal = self.traversal_helper(node.right, traversal)\n",
    "        \n",
    "#         return traversal\n",
    "\n",
    "    def inorder(self):\n",
    "        self.inorder_helper(self.root)\n",
    "    \n",
    "    # A utility function to do inorder traversal of BST\n",
    "    def inorder_helper(self, root):\n",
    "        if root is not None:\n",
    "            self.inorder_helper(root.left)\n",
    "            print root.value,\n",
    "            self.inorder_helper(root.right)\n",
    "    \n",
    "    def search(self, val):\n",
    "        rt = self.root\n",
    "        parent = None\n",
    "        while rt:\n",
    "            if rt.value == val:\n",
    "                return [rt, parent]\n",
    "            elif val < rt.value:\n",
    "                parent = rt\n",
    "                rt = rt.left\n",
    "            elif val > rt.value:\n",
    "                parent = rt\n",
    "                rt = rt.right\n",
    "        return 0\n",
    "    \n",
    "    \n",
    "    # Given a non-empty binary search tree, return the node\n",
    "    # with minum key value found in that tree. Note that the\n",
    "    # entire tree does not need to be searched \n",
    "    def minValueNode(self, node):\n",
    "        current = node\n",
    "\n",
    "        # loop down to find the leftmost leaf\n",
    "        while(current.left is not None):\n",
    "            current = current.left \n",
    "\n",
    "        return current \n",
    "\n",
    "    def delete(self, key):\n",
    "        self.deleteNode(self.root, key)\n",
    "    \n",
    "    # Given a binary search tree and a key, this function\n",
    "    # delete the key and returns the new root\n",
    "    def deleteNode(self, root, key):\n",
    "\n",
    "        # Base Case\n",
    "        if root is None:\n",
    "            return root \n",
    "\n",
    "        # If the key to be deleted is similiar than the root's\n",
    "        # key then it lies in  left subtree\n",
    "        if key < root.value:\n",
    "            root.left = self.deleteNode(root.left, key)\n",
    "\n",
    "        # If the kye to be delete is greater than the root's key\n",
    "        # then it lies in right subtree\n",
    "        elif(key > root.value):\n",
    "            root.right = self.deleteNode(root.right, key)\n",
    "\n",
    "        # If key is same as root's key, then this is the node\n",
    "        # to be deleted\n",
    "        else:\n",
    "\n",
    "            # Node with only one child or no child\n",
    "            if root.left is None :\n",
    "                temp = root.right \n",
    "                root = None\n",
    "                return temp \n",
    "\n",
    "            elif root.right is None :\n",
    "                temp = root.left \n",
    "                root = None\n",
    "                return temp\n",
    "\n",
    "            # Node with two children: Get the inorder successor\n",
    "            # (smallest in the right subtree)\n",
    "            temp = self.minValueNode(root.right)\n",
    "\n",
    "            # Copy the inorder successor's content to this node\n",
    "            root.value = temp.value\n",
    "\n",
    "            # Delete the inorder successor\n",
    "            root.right = self.deleteNode(root.right , temp.value)\n",
    "\n",
    "        return root \n",
    "    \n",
    "    \n",
    "            \n",
    "            \n",
    "# bst = binary_search_tree(5)\n",
    "# bst.insert(4)\n",
    "# bst.insert(6)\n",
    "# bst.insert(9)\n",
    "# bst.insert(10)\n",
    "# bst.insert(3)\n",
    "# bst.insert(2)\n",
    "# bst.insert(0)\n",
    "# bst.insert(1)\n",
    "\n",
    "bst = binary_search_tree(10)\n",
    "bst.insert(7)\n",
    "bst.insert(6)\n",
    "bst.insert(9)\n",
    "bst.insert(8)\n",
    "bst.insert(13)\n",
    "bst.insert(12)\n",
    "bst.insert(11)\n",
    "bst.insert(14)"
   ]
  },
  {
   "cell_type": "code",
   "execution_count": 57,
   "metadata": {
    "collapsed": false
   },
   "outputs": [
    {
     "name": "stdout",
     "output_type": "stream",
     "text": [
      "6 7 8 9 10 11 12 13 14 None\n"
     ]
    }
   ],
   "source": [
    "print bst.inorder()"
   ]
  },
  {
   "cell_type": "code",
   "execution_count": 52,
   "metadata": {
    "collapsed": false
   },
   "outputs": [],
   "source": [
    "bst.delete(7)"
   ]
  },
  {
   "cell_type": "code",
   "execution_count": 53,
   "metadata": {
    "collapsed": false
   },
   "outputs": [
    {
     "name": "stdout",
     "output_type": "stream",
     "text": [
      "6 8 9 10 11 12 13 14 None\n"
     ]
    }
   ],
   "source": [
    "print bst.inorder()"
   ]
  },
  {
   "cell_type": "code",
   "execution_count": 161,
   "metadata": {
    "collapsed": false
   },
   "outputs": [],
   "source": [
    "bst.delete(5)"
   ]
  },
  {
   "cell_type": "code",
   "execution_count": 162,
   "metadata": {
    "collapsed": false
   },
   "outputs": [
    {
     "name": "stdout",
     "output_type": "stream",
     "text": [
      "[0, 1, 2, 3, 5, 9, 10]\n"
     ]
    }
   ],
   "source": [
    "print bst.inorder_traversal()"
   ]
  },
  {
   "cell_type": "code",
   "execution_count": null,
   "metadata": {
    "collapsed": true
   },
   "outputs": [],
   "source": []
  }
 ],
 "metadata": {
  "kernelspec": {
   "display_name": "Python 2",
   "language": "python",
   "name": "python2"
  },
  "language_info": {
   "codemirror_mode": {
    "name": "ipython",
    "version": 2
   },
   "file_extension": ".py",
   "mimetype": "text/x-python",
   "name": "python",
   "nbconvert_exporter": "python",
   "pygments_lexer": "ipython2",
   "version": "2.7.13"
  }
 },
 "nbformat": 4,
 "nbformat_minor": 2
}
