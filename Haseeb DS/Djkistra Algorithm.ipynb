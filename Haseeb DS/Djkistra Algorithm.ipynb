{
 "cells": [
  {
   "cell_type": "code",
   "execution_count": 2,
   "metadata": {
    "collapsed": false
   },
   "outputs": [
    {
     "name": "stdout",
     "output_type": "stream",
     "text": [
      "Vertex tDistance from Source\n",
      "0 t 0\n",
      "1 t 4\n",
      "2 t 12\n",
      "3 t 19\n",
      "4 t 21\n",
      "5 t 11\n",
      "6 t 9\n",
      "7 t 8\n",
      "8 t 14\n"
     ]
    }
   ],
   "source": [
    "# Python program for Dijkstra's single \n",
    "# source shortest path algorithm. The program is \n",
    "# for adjacency matrix representation of the graph\n",
    "\n",
    "# Library for INT_MAX\n",
    "import sys\n",
    "\n",
    "class Graph():\n",
    "\n",
    "\tdef __init__(self, vertices):\n",
    "\t\tself.V = vertices\n",
    "\t\tself.graph = [[0 for column in range(vertices)] \n",
    "\t\t\t\t\tfor row in range(vertices)]\n",
    "\n",
    "\tdef printSolution(self, dist):\n",
    "\t\tprint \"Vertex tDistance from Source\"\n",
    "\t\tfor node in range(self.V):\n",
    "\t\t\tprint node,\"t\",dist[node]\n",
    "\n",
    "\t# A utility function to find the vertex with \n",
    "\t# minimum distance value, from the set of vertices \n",
    "\t# not yet included in shortest path tree\n",
    "\tdef minDistance(self, dist, sptSet):\n",
    "\n",
    "\t\t# Initilaize minimum distance for next node\n",
    "\t\tmin = sys.maxint\n",
    "\n",
    "\t\t# Search not nearest vertex not in the \n",
    "\t\t# shortest path tree\n",
    "\t\tfor v in range(self.V):\n",
    "\t\t\tif dist[v] < min and sptSet[v] == False:\n",
    "\t\t\t\tmin = dist[v]\n",
    "\t\t\t\tmin_index = v\n",
    "\n",
    "\t\treturn min_index\n",
    "\n",
    "\t# Funtion that implements Dijkstra's single source \n",
    "\t# shortest path algorithm for a graph represented \n",
    "\t# using adjacency matrix representation\n",
    "\tdef dijkstra(self, src):\n",
    "\n",
    "\t\tdist = [sys.maxint] * self.V\n",
    "\t\tdist[src] = 0\n",
    "\t\tsptSet = [False] * self.V\n",
    "\n",
    "\t\tfor cout in range(self.V):\n",
    "\n",
    "\t\t\t# Pick the minimum distance vertex from \n",
    "\t\t\t# the set of vertices not yet processed. \n",
    "\t\t\t# u is always equal to src in first iteration\n",
    "\t\t\tu = self.minDistance(dist, sptSet)\n",
    "\n",
    "\t\t\t# Put the minimum distance vertex in the \n",
    "\t\t\t# shotest path tree\n",
    "\t\t\tsptSet[u] = True\n",
    "\n",
    "\t\t\t# Update dist value of the adjacent vertices \n",
    "\t\t\t# of the picked vertex only if the current \n",
    "\t\t\t# distance is greater than new distance and\n",
    "\t\t\t# the vertex in not in the shotest path tree\n",
    "\t\t\tfor v in range(self.V):\n",
    "\t\t\t\tif self.graph[u][v] > 0 and sptSet[v] == False and dist[v] > dist[u] + self.graph[u][v]:\n",
    "\t\t\t\t\t\tdist[v] = dist[u] + self.graph[u][v]\n",
    "\n",
    "\t\tself.printSolution(dist)\n",
    "\n",
    "# Driver program\n",
    "g = Graph(9)\n",
    "g.graph = [[0, 4, 0, 0, 0, 0, 0, 8, 0],\n",
    "\t\t[4, 0, 8, 0, 0, 0, 0, 11, 0],\n",
    "\t\t[0, 8, 0, 7, 0, 4, 0, 0, 2],\n",
    "\t\t[0, 0, 7, 0, 9, 14, 0, 0, 0],\n",
    "\t\t[0, 0, 0, 9, 0, 10, 0, 0, 0],\n",
    "\t\t[0, 0, 4, 14, 10, 0, 2, 0, 0],\n",
    "\t\t[0, 0, 0, 0, 0, 2, 0, 1, 6],\n",
    "\t\t[8, 11, 0, 0, 0, 0, 1, 0, 7],\n",
    "\t\t[0, 0, 2, 0, 0, 0, 6, 7, 0]\n",
    "\t\t];\n",
    "\n",
    "g.dijkstra(0);\n",
    "\n",
    "# This code is contributed by Divyanshu Mehta"
   ]
  },
  {
   "cell_type": "code",
   "execution_count": null,
   "metadata": {
    "collapsed": true
   },
   "outputs": [],
   "source": []
  }
 ],
 "metadata": {
  "kernelspec": {
   "display_name": "Python 2",
   "language": "python",
   "name": "python2"
  },
  "language_info": {
   "codemirror_mode": {
    "name": "ipython",
    "version": 2
   },
   "file_extension": ".py",
   "mimetype": "text/x-python",
   "name": "python",
   "nbconvert_exporter": "python",
   "pygments_lexer": "ipython2",
   "version": "2.7.13"
  }
 },
 "nbformat": 4,
 "nbformat_minor": 2
}
