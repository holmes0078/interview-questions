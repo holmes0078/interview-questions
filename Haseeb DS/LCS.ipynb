{
 "cells": [
  {
   "cell_type": "code",
   "execution_count": 78,
   "metadata": {
    "collapsed": true
   },
   "outputs": [],
   "source": [
    "s1 = \"AGGTAB\"\n",
    "s2 = \"GXTXAYB\""
   ]
  },
  {
   "cell_type": "code",
   "execution_count": 79,
   "metadata": {
    "collapsed": false
   },
   "outputs": [],
   "source": [
    "def LCS(s1,s2):\n",
    "    m = len(s1)\n",
    "    n = len(s2)\n",
    "    \n",
    "    L = [[0 for j in range(0,m+1)] for i in range(0,n+1)] \n",
    "    \n",
    "    for i in range(1,n+1):\n",
    "        for j in range(1,m+1):\n",
    "            if s2[i-1] == s1[j-1]:\n",
    "                L[i][j] = 1 + L[i-1][j-1]\n",
    "            else:\n",
    "                L[i][j] = max(L[i][j-1], L[i-1][j])\n",
    "    \n",
    "    return L"
   ]
  },
  {
   "cell_type": "code",
   "execution_count": 80,
   "metadata": {
    "collapsed": false
   },
   "outputs": [],
   "source": [
    "L = LCS(s1,s2)"
   ]
  },
  {
   "cell_type": "code",
   "execution_count": 81,
   "metadata": {
    "collapsed": false
   },
   "outputs": [
    {
     "data": {
      "text/plain": [
       "[[0, 0, 0, 0, 0, 0, 0],\n",
       " [0, 0, 1, 1, 1, 1, 1],\n",
       " [0, 0, 1, 1, 1, 1, 1],\n",
       " [0, 0, 1, 1, 2, 2, 2],\n",
       " [0, 0, 1, 1, 2, 2, 2],\n",
       " [0, 1, 1, 1, 2, 3, 3],\n",
       " [0, 1, 1, 1, 2, 3, 3],\n",
       " [0, 1, 1, 1, 2, 3, 4]]"
      ]
     },
     "execution_count": 81,
     "metadata": {},
     "output_type": "execute_result"
    }
   ],
   "source": [
    "L"
   ]
  },
  {
   "cell_type": "code",
   "execution_count": 105,
   "metadata": {
    "collapsed": false
   },
   "outputs": [
    {
     "name": "stdout",
     "output_type": "stream",
     "text": [
      "6 5 3\n",
      "5 5 3\n",
      "4 4 2\n",
      "3 4 2\n",
      "2 3 1\n",
      "2 2 1\n",
      "1 2 1\n",
      "0 1 0\n"
     ]
    }
   ],
   "source": [
    "i = n\n",
    "j = m\n",
    "temp = []\n",
    "while i>0 and j> 0:\n",
    "    if s1[j-1] == s2[i-1]:\n",
    "        temp.append(s1[j-1])\n",
    "        i = i-1\n",
    "        j = j-1\n",
    "    elif L[i-1][j] > L[i][j-1]:\n",
    "        i = i-1\n",
    "    else:\n",
    "        j = j-1\n",
    "    print i, j, L[i][j]"
   ]
  },
  {
   "cell_type": "code",
   "execution_count": null,
   "metadata": {
    "collapsed": true
   },
   "outputs": [],
   "source": []
  }
 ],
 "metadata": {
  "kernelspec": {
   "display_name": "Python 2",
   "language": "python",
   "name": "python2"
  },
  "language_info": {
   "codemirror_mode": {
    "name": "ipython",
    "version": 2
   },
   "file_extension": ".py",
   "mimetype": "text/x-python",
   "name": "python",
   "nbconvert_exporter": "python",
   "pygments_lexer": "ipython2",
   "version": "2.7.13"
  }
 },
 "nbformat": 4,
 "nbformat_minor": 2
}
