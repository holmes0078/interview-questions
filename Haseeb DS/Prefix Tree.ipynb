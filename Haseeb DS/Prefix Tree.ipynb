{
 "cells": [
  {
   "cell_type": "code",
   "execution_count": 33,
   "metadata": {
    "collapsed": true
   },
   "outputs": [],
   "source": [
    "class TrieNode(object):\n",
    "    \n",
    "    def __init__(self):\n",
    "        self.children = [None] * 26\n",
    "        self.is_word = False\n",
    "\n",
    "class Trie(object):\n",
    "    \n",
    "    def __init__(self):\n",
    "        self.root = TrieNode()\n",
    "    \n",
    "    def alpha_to_num(self, ch):\n",
    "        return ord(ch)-ord('a')\n",
    "    \n",
    "    def insert(self, string):\n",
    "        length = len(string)\n",
    "        rt = self.root\n",
    "        \n",
    "        for i in range(length):\n",
    "            ch = string[i]\n",
    "            num_ch = self.alpha_to_num(ch)\n",
    "            \n",
    "            if not rt.children[num_ch]:\n",
    "                rt.children[num_ch] = TrieNode()  \n",
    "            rt = rt.children[num_ch]\n",
    "        \n",
    "        rt.is_word = True\n",
    "        \n",
    "    def search(self, string):\n",
    "        length = len(string)\n",
    "        rt = self.root\n",
    "        \n",
    "        for i in range(length):\n",
    "            ch = string[i]\n",
    "            num_ch = self.alpha_to_num(ch)\n",
    "            \n",
    "            if rt.children[num_ch] is None:\n",
    "                return False\n",
    "            rt = rt.children[num_ch]\n",
    "        \n",
    "        return rt != None and rt.is_word\n",
    "            "
   ]
  },
  {
   "cell_type": "code",
   "execution_count": 34,
   "metadata": {},
   "outputs": [],
   "source": [
    "# Input keys (use only 'a' through 'z' and lower case)\n",
    "keys = [\"the\",\"a\",\"there\",\"anaswe\",\"any\",\n",
    "            \"by\",\"their\"]\n",
    "output = [\"Not present in trie\",\n",
    "              \"Present in tire\"]"
   ]
  },
  {
   "cell_type": "code",
   "execution_count": 35,
   "metadata": {},
   "outputs": [],
   "source": [
    "# Trie object\n",
    "t = Trie()\n",
    " \n",
    "# Construct trie\n",
    "for key in keys:\n",
    "    t.insert(key)"
   ]
  },
  {
   "cell_type": "code",
   "execution_count": 36,
   "metadata": {},
   "outputs": [
    {
     "name": "stdout",
     "output_type": "stream",
     "text": [
      "the ---- Present in tire\n",
      "these ---- Not present in trie\n",
      "their ---- Present in tire\n",
      "thaw ---- Not present in trie\n"
     ]
    }
   ],
   "source": [
    "# Search for different keys\n",
    "print(\"{} ---- {}\".format(\"the\",output[t.search(\"the\")]))\n",
    "print(\"{} ---- {}\".format(\"these\",output[t.search(\"these\")]))\n",
    "print(\"{} ---- {}\".format(\"their\",output[t.search(\"their\")]))\n",
    "print(\"{} ---- {}\".format(\"thaw\",output[t.search(\"thaw\")]))"
   ]
  },
  {
   "cell_type": "code",
   "execution_count": null,
   "metadata": {
    "collapsed": true
   },
   "outputs": [],
   "source": []
  }
 ],
 "metadata": {
  "kernelspec": {
   "display_name": "Python 2",
   "language": "python",
   "name": "python2"
  },
  "language_info": {
   "codemirror_mode": {
    "name": "ipython",
    "version": 2
   },
   "file_extension": ".py",
   "mimetype": "text/x-python",
   "name": "python",
   "nbconvert_exporter": "python",
   "pygments_lexer": "ipython2",
   "version": "2.7.13"
  }
 },
 "nbformat": 4,
 "nbformat_minor": 2
}
