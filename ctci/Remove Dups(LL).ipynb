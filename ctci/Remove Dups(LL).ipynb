{
 "cells": [
  {
   "cell_type": "code",
   "execution_count": 21,
   "metadata": {
    "collapsed": false
   },
   "outputs": [
    {
     "name": "stdout",
     "output_type": "stream",
     "text": [
      "1 3 4\n"
     ]
    }
   ],
   "source": [
    "class Node(object):\n",
    "    def __init__(self, val):\n",
    "        self.data = val\n",
    "        self.next = None\n",
    "\n",
    "class LinkedList(object):\n",
    "    def __init__(self, val):\n",
    "        self.head = Node(val)\n",
    "    \n",
    "    #adds a node at the end of the LL\n",
    "    def insert(self, val):\n",
    "        if not self.head:\n",
    "            self.head = Node(val)\n",
    "        else:\n",
    "            current = self.head\n",
    "            while current.next is not None:\n",
    "                current = current.next\n",
    "            current.next = Node(val)\n",
    "    \n",
    "    def delete(self, val):\n",
    "        current = self.head\n",
    "        flag = 0\n",
    "        if current.data == val:\n",
    "            if current.next:\n",
    "                self.head = current.next\n",
    "            del current\n",
    "        else:\n",
    "            while current.next is not None:\n",
    "                if current.next.data == val:\n",
    "                    current.next = current.next.next\n",
    "                    flag = 1\n",
    "                current = current.next\n",
    "        if not flag:\n",
    "            raise KeyError('Value does not exist')\n",
    "            \n",
    "    def remove_duplicates(self):\n",
    "        current = self.head\n",
    "        hash_table = {}\n",
    "        if current:\n",
    "            while current is not None:\n",
    "                if current.data in hash_table:\n",
    "                    prev.next = current.next\n",
    "                    \n",
    "                else:\n",
    "                    hash_table[current.data] = 1\n",
    "                    prev = current\n",
    "                current = current.next\n",
    "                \n",
    "    def print_ll(self):\n",
    "        current = self.head\n",
    "        while current is not None:\n",
    "            print current.data,\n",
    "            current = current.next\n",
    "\n",
    "def main():\n",
    "    LL = LinkedList(1)\n",
    "    LL.insert(1)\n",
    "    LL.insert(1)\n",
    "    LL.insert(3)\n",
    "    LL.insert(4)\n",
    "    LL.insert(4)\n",
    "    LL.insert(3)\n",
    "    LL.remove_duplicates()\n",
    "    LL.print_ll()\n",
    "\n",
    "if __name__ == \"__main__\":\n",
    "    main()\n",
    "                "
   ]
  },
  {
   "cell_type": "code",
   "execution_count": null,
   "metadata": {
    "collapsed": true
   },
   "outputs": [],
   "source": []
  }
 ],
 "metadata": {
  "kernelspec": {
   "display_name": "Python 2",
   "language": "python",
   "name": "python2"
  },
  "language_info": {
   "codemirror_mode": {
    "name": "ipython",
    "version": 2
   },
   "file_extension": ".py",
   "mimetype": "text/x-python",
   "name": "python",
   "nbconvert_exporter": "python",
   "pygments_lexer": "ipython2",
   "version": "2.7.13"
  }
 },
 "nbformat": 4,
 "nbformat_minor": 2
}
