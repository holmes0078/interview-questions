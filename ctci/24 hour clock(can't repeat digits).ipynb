{
 "cells": [
  {
   "cell_type": "code",
   "execution_count": 156,
   "metadata": {},
   "outputs": [],
   "source": [
    "def perm(prefix, string, res):\n",
    "    if not string and int(prefix)<=2359:\n",
    "        res.append(prefix)\n",
    "    else:\n",
    "        for i in range(len(string)):\n",
    "            perm(prefix+string[i], string[0:i]+string[i+1:], res)"
   ]
  },
  {
   "cell_type": "code",
   "execution_count": 170,
   "metadata": {},
   "outputs": [
    {
     "name": "stdout",
     "output_type": "stream",
     "text": [
      "2300\n"
     ]
    }
   ],
   "source": [
    "res = []\n",
    "time = '2300'\n",
    "perm('', time, res)\n",
    "\n",
    "min_dif = 2359\n",
    "answer = time\n",
    "for item in res:\n",
    "    diff = int(item)-int(time)\n",
    "    if diff>0 and diff < min_dif:\n",
    "        min_dif = diff\n",
    "        answer = item\n",
    "print answer\n",
    "        "
   ]
  },
  {
   "cell_type": "code",
   "execution_count": null,
   "metadata": {
    "collapsed": true
   },
   "outputs": [],
   "source": []
  },
  {
   "cell_type": "code",
   "execution_count": null,
   "metadata": {
    "collapsed": true
   },
   "outputs": [],
   "source": []
  }
 ],
 "metadata": {
  "kernelspec": {
   "display_name": "Python 2",
   "language": "python",
   "name": "python2"
  },
  "language_info": {
   "codemirror_mode": {
    "name": "ipython",
    "version": 2
   },
   "file_extension": ".py",
   "mimetype": "text/x-python",
   "name": "python",
   "nbconvert_exporter": "python",
   "pygments_lexer": "ipython2",
   "version": "2.7.13"
  }
 },
 "nbformat": 4,
 "nbformat_minor": 2
}
