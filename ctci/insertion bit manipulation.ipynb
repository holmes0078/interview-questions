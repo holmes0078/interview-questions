{
 "cells": [
  {
   "cell_type": "code",
   "execution_count": 24,
   "metadata": {
    "collapsed": false
   },
   "outputs": [
    {
     "name": "stdout",
     "output_type": "stream",
     "text": [
      "10000000000\n",
      "10011\n",
      "2 6\n",
      "0b10001001100\n"
     ]
    }
   ],
   "source": [
    "N = int(raw_input(), 2)\n",
    "M = int(raw_input(), 2)\n",
    "i, j = map(int, raw_input().strip().split(' '))\n",
    "\n",
    "count = j-i\n",
    "num = 0\n",
    "while count >= 0:\n",
    "    num += 2**count\n",
    "    count -= 1\n",
    "\n",
    "print bin((N & ~(num << i)) + (M << i))"
   ]
  },
  {
   "cell_type": "code",
   "execution_count": null,
   "metadata": {
    "collapsed": true
   },
   "outputs": [],
   "source": []
  }
 ],
 "metadata": {
  "kernelspec": {
   "display_name": "Python 2",
   "language": "python",
   "name": "python2"
  },
  "language_info": {
   "codemirror_mode": {
    "name": "ipython",
    "version": 2
   },
   "file_extension": ".py",
   "mimetype": "text/x-python",
   "name": "python",
   "nbconvert_exporter": "python",
   "pygments_lexer": "ipython2",
   "version": "2.7.13"
  }
 },
 "nbformat": 4,
 "nbformat_minor": 2
}
