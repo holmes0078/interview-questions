{
 "cells": [
  {
   "cell_type": "code",
   "execution_count": null,
   "metadata": {
    "collapsed": true
   },
   "outputs": [],
   "source": [
    "class Stack(object):\n",
    "    def __init__(self):\n",
    "        self.items = []\n",
    "        self.maxsize = 10\n",
    "        \n",
    "    def is_full(self):\n",
    "        return len(self.items) == self.maxsize\n",
    "    \n",
    "class stack_of_stacks(object):\n",
    "    def __init__(self):\n",
    "        self.items = [Stack()]\n",
    "    \n",
    "    def push(self, val):\n",
    "        current_stack = self.items[len(self.items)-1]\n",
    "        if current_stack.is_full():\n",
    "            self.items.append(Stack())\n",
    "            current_stack = self.items[len(self.items)-1]\n",
    "        current_stack.append(val)\n",
    "    \n",
    "    def pop(self):\n",
    "        if len(self.items[0]) == 0:\n",
    "            return -1\n",
    "        current_stack = self.items[len(self.items)-1]\n",
    "        if not len(current_stack)\n",
    "            self.items.pop()\n",
    "            current_stack = self.items[len(self.items)-1]\n",
    "        return current_stack.pop()"
   ]
  }
 ],
 "metadata": {
  "kernelspec": {
   "display_name": "Python 2",
   "language": "python",
   "name": "python2"
  },
  "language_info": {
   "codemirror_mode": {
    "name": "ipython",
    "version": 2
   },
   "file_extension": ".py",
   "mimetype": "text/x-python",
   "name": "python",
   "nbconvert_exporter": "python",
   "pygments_lexer": "ipython2",
   "version": "2.7.13"
  }
 },
 "nbformat": 4,
 "nbformat_minor": 2
}
