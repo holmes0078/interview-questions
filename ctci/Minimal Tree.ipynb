{
 "cells": [
  {
   "cell_type": "code",
   "execution_count": 16,
   "metadata": {
    "collapsed": false
   },
   "outputs": [
    {
     "name": "stdout",
     "output_type": "stream",
     "text": [
      "1\n",
      "2\n",
      "3\n",
      "4\n",
      "5\n",
      "6\n",
      "7\n",
      "8\n",
      "9\n",
      "10\n"
     ]
    }
   ],
   "source": [
    "class Node(object):\n",
    "    def __init__(self, val):\n",
    "        self.data = val\n",
    "        self.left = None\n",
    "        self.right = None\n",
    "\n",
    "class minimal_tree(object):\n",
    "    def __init__(self):\n",
    "        self.root = None\n",
    "    \n",
    "    def insert(self, node_list, start, end):\n",
    "        if start <= end:\n",
    "            mid = (start+end)/2\n",
    "            if self.root is None:\n",
    "                self.root = Node(node_list[mid])\n",
    "            else:\n",
    "                current = self.root\n",
    "                while True:\n",
    "                    if node_list[mid] < current.data:\n",
    "                        if current.left is None:\n",
    "                            current.left = Node(node_list[mid])\n",
    "                            break\n",
    "                        else:\n",
    "                            current = current.left\n",
    "                    else:\n",
    "                        if current.right is None:\n",
    "                            current.right = Node(node_list[mid])\n",
    "                            break\n",
    "                        else:\n",
    "                            current = current.right\n",
    "\n",
    "            self.insert(node_list, start, mid-1)\n",
    "            self.insert(node_list, mid+1, end)\n",
    "    \n",
    "    def inorder_traversal(self, root):\n",
    "        if root:\n",
    "            self.inorder_traversal(root.left)\n",
    "            print root.data\n",
    "            self.inorder_traversal(root.right)\n",
    "    \n",
    "def main():\n",
    "    arr = [1,2,3,4,5,6,7,8,9,10]\n",
    "    mt = minimal_tree()\n",
    "    mt.insert(arr, 0, len(arr)-1)\n",
    "    mt.inorder_traversal(mt.root)\n",
    "\n",
    "if __name__ == '__main__':\n",
    "    main()"
   ]
  },
  {
   "cell_type": "code",
   "execution_count": null,
   "metadata": {
    "collapsed": true
   },
   "outputs": [],
   "source": []
  }
 ],
 "metadata": {
  "kernelspec": {
   "display_name": "Python 2",
   "language": "python",
   "name": "python2"
  },
  "language_info": {
   "codemirror_mode": {
    "name": "ipython",
    "version": 2
   },
   "file_extension": ".py",
   "mimetype": "text/x-python",
   "name": "python",
   "nbconvert_exporter": "python",
   "pygments_lexer": "ipython2",
   "version": "2.7.13"
  }
 },
 "nbformat": 4,
 "nbformat_minor": 2
}
