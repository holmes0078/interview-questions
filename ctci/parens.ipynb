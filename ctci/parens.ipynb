{
 "cells": [
  {
   "cell_type": "code",
   "execution_count": 11,
   "metadata": {
    "collapsed": false
   },
   "outputs": [
    {
     "name": "stdout",
     "output_type": "stream",
     "text": [
      "['(())', '()()']\n"
     ]
    }
   ],
   "source": [
    "def add_paren(final_list, left_rem, right_rem, string, count):\n",
    "    if left_rem < 0 or right_rem < left_rem:\n",
    "        return\n",
    "    \n",
    "    if left_rem ==0 and right_rem == 0:\n",
    "        perm = \"\"\n",
    "        for i in string:\n",
    "            perm += i\n",
    "        final_list.append(perm)\n",
    "    else:\n",
    "        if left_rem > 0:\n",
    "            string[count] = '('\n",
    "            add_paren(final_list, left_rem-1, right_rem, string, count+1)\n",
    "        if right_rem > left_rem:\n",
    "            string[count] = ')'\n",
    "            add_paren(final_list, left_rem, right_rem-1, string, count+1)\n",
    "\n",
    "def main():\n",
    "    string = [0]*4\n",
    "    final_list = []\n",
    "    add_paren(final_list, 2, 2, string, 0)\n",
    "    print final_list\n",
    "\n",
    "if __name__ == \"__main__\":\n",
    "    main()"
   ]
  },
  {
   "cell_type": "code",
   "execution_count": null,
   "metadata": {
    "collapsed": true
   },
   "outputs": [],
   "source": []
  }
 ],
 "metadata": {
  "kernelspec": {
   "display_name": "Python 2",
   "language": "python",
   "name": "python2"
  },
  "language_info": {
   "codemirror_mode": {
    "name": "ipython",
    "version": 2
   },
   "file_extension": ".py",
   "mimetype": "text/x-python",
   "name": "python",
   "nbconvert_exporter": "python",
   "pygments_lexer": "ipython2",
   "version": "2.7.13"
  }
 },
 "nbformat": 4,
 "nbformat_minor": 2
}
