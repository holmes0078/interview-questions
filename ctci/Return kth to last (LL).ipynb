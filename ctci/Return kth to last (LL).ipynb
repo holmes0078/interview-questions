{
 "cells": [
  {
   "cell_type": "code",
   "execution_count": 27,
   "metadata": {
    "collapsed": false
   },
   "outputs": [
    {
     "name": "stdout",
     "output_type": "stream",
     "text": [
      "4\n"
     ]
    }
   ],
   "source": [
    "class Node(object):\n",
    "    def __init__(self, val):\n",
    "        self.data = val\n",
    "        self.next = None\n",
    "\n",
    "class LinkedList(object):\n",
    "    def __init__(self, val):\n",
    "        self.head = Node(val)\n",
    "    \n",
    "    #adds a node at the end of the LL\n",
    "    def insert(self, val):\n",
    "        if not self.head:\n",
    "            self.head = Node(val)\n",
    "        else:\n",
    "            current = self.head\n",
    "            while current.next is not None:\n",
    "                current = current.next\n",
    "            current.next = Node(val)\n",
    "    \n",
    "    def k_from_last(self, k):\n",
    "        pointer_one = self.head\n",
    "        pointer_two = self.head\n",
    "        for i in range(k):\n",
    "            if pointer_two is None:\n",
    "                return None\n",
    "            pointer_two = pointer_two.next\n",
    "        \n",
    "        while pointer_two.next is not None:\n",
    "            pointer_two = pointer_two.next\n",
    "            pointer_one = pointer_one.next\n",
    "        \n",
    "        return pointer_one.data\n",
    "                \n",
    "    def print_ll(self):\n",
    "        current = self.head\n",
    "        while current is not None:\n",
    "            print current.data,\n",
    "            current = current.next\n",
    "\n",
    "def main():\n",
    "    LL = LinkedList(1)\n",
    "    LL.insert(2)\n",
    "    LL.insert(3)\n",
    "    LL.insert(4)\n",
    "    LL.insert(5)\n",
    "    LL.insert(6)\n",
    "    print LL.k_from_last(2)\n",
    "\n",
    "if __name__ == \"__main__\":\n",
    "    main()\n",
    "                "
   ]
  },
  {
   "cell_type": "code",
   "execution_count": null,
   "metadata": {
    "collapsed": true
   },
   "outputs": [],
   "source": []
  }
 ],
 "metadata": {
  "kernelspec": {
   "display_name": "Python 2",
   "language": "python",
   "name": "python2"
  },
  "language_info": {
   "codemirror_mode": {
    "name": "ipython",
    "version": 2
   },
   "file_extension": ".py",
   "mimetype": "text/x-python",
   "name": "python",
   "nbconvert_exporter": "python",
   "pygments_lexer": "ipython2",
   "version": "2.7.13"
  }
 },
 "nbformat": 4,
 "nbformat_minor": 2
}
