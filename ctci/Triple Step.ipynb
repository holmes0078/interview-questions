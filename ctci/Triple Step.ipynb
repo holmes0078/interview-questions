{
 "cells": [
  {
   "cell_type": "code",
   "execution_count": 17,
   "metadata": {
    "collapsed": false
   },
   "outputs": [
    {
     "name": "stdout",
     "output_type": "stream",
     "text": [
      "274\n"
     ]
    }
   ],
   "source": [
    "def triple_step(num_steps, memo):\n",
    "    if num_steps == 0:\n",
    "        return 1\n",
    "    elif num_steps == 1:\n",
    "        return 1\n",
    "    elif num_steps == 2:\n",
    "        return 2\n",
    "\n",
    "    return triple_step(num_steps-1, memo) + triple_step(num_steps-2, memo) + triple_step(num_steps-3, memo)\n",
    "\n",
    "def triple_step_space(num_steps):\n",
    "    \n",
    "#     memo = [None]*(num+1)\n",
    "#     memo[0] = 0\n",
    "#     memo[1] = 1\n",
    "#     memo[2] = 2\n",
    "    a = 0\n",
    "    b = 1\n",
    "    c = 2\n",
    "    \n",
    "    for i in range(3, num_steps+1):\n",
    "        d = a + b + c\n",
    "        a = b\n",
    "        b = c\n",
    "        c = d\n",
    "    return d\n",
    "\n",
    "def main():\n",
    "    num = 10\n",
    "    print triple_step(num,[None]*(num+1))\n",
    "\n",
    "if __name__ == \"__main__\":\n",
    "    main()"
   ]
  },
  {
   "cell_type": "code",
   "execution_count": null,
   "metadata": {
    "collapsed": true
   },
   "outputs": [],
   "source": []
  }
 ],
 "metadata": {
  "kernelspec": {
   "display_name": "Python 2",
   "language": "python",
   "name": "python2"
  },
  "language_info": {
   "codemirror_mode": {
    "name": "ipython",
    "version": 2
   },
   "file_extension": ".py",
   "mimetype": "text/x-python",
   "name": "python",
   "nbconvert_exporter": "python",
   "pygments_lexer": "ipython2",
   "version": "2.7.13"
  }
 },
 "nbformat": 4,
 "nbformat_minor": 2
}
