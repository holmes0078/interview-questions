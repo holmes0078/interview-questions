{
 "cells": [
  {
   "cell_type": "code",
   "execution_count": 42,
   "metadata": {
    "collapsed": false
   },
   "outputs": [
    {
     "name": "stdout",
     "output_type": "stream",
     "text": [
      "5\n",
      "2 8\n",
      "1 3 6 9\n",
      "4 7 10\n"
     ]
    }
   ],
   "source": [
    "class ll_node(object):\n",
    "    def __init__(self, val):\n",
    "        self.data = val\n",
    "        self.next = None\n",
    "\n",
    "class linked_list(object):\n",
    "    def __init__(self):\n",
    "        self.head = None\n",
    "\n",
    "    def insert(self, val):\n",
    "        if self.head is None:\n",
    "            self.head = ll_node(val)\n",
    "        else:\n",
    "            current = self.head\n",
    "            while current.next is not None:\n",
    "                current = current.next\n",
    "            current.next = ll_node(val)\n",
    "\n",
    "class tree_node(object):\n",
    "    def __init__(self, val, depth):\n",
    "        self.data = val\n",
    "        self.depth = depth\n",
    "        self.left = None\n",
    "        self.right = None\n",
    "\n",
    "class minimal_tree(object):\n",
    "    def __init__(self):\n",
    "        self.root = None\n",
    "        self.max_depth = None\n",
    "    \n",
    "    def insert(self, node_list, start, end):\n",
    "        if start <= end:\n",
    "            mid = (start+end)/2\n",
    "            if self.root is None:\n",
    "                self.root = tree_node(node_list[mid], 0)\n",
    "                self.max_depth = 0\n",
    "            else:\n",
    "                current = self.root\n",
    "                while True:\n",
    "                    if node_list[mid] < current.data:\n",
    "                        if current.left is None:\n",
    "                            current.left = tree_node(node_list[mid], current.depth + 1)\n",
    "                            self.max_depth = max(self.max_depth, current.depth + 1)\n",
    "                            break\n",
    "                        else:\n",
    "                            current = current.left\n",
    "                    else:\n",
    "                        if current.right is None:\n",
    "                            current.right = tree_node(node_list[mid], current.depth + 1)\n",
    "                            self.max_depth = max(self.max_depth, current.depth + 1)\n",
    "                            break\n",
    "                        else:\n",
    "                            current = current.right\n",
    "\n",
    "            self.insert(node_list, start, mid-1)\n",
    "            self.insert(node_list, mid+1, end)\n",
    "    \n",
    "    def inorder_traversal(self, root):\n",
    "        if root:\n",
    "            self.inorder_traversal(root.left)\n",
    "            print root.data\n",
    "            self.inorder_traversal(root.right)\n",
    "    \n",
    "    def get_ll(self):\n",
    "        ll_list = []\n",
    "        for i in range(self.max_depth+1):\n",
    "            ll_list.append(linked_list())\n",
    "        self.inorder_utility(self.root, ll_list)\n",
    "        return ll_list\n",
    "    \n",
    "    def inorder_utility(self, node, ll_list):\n",
    "        if node:\n",
    "            self.inorder_utility(node.left, ll_list)\n",
    "            ll_list[node.depth].insert(node.data)\n",
    "            self.inorder_utility(node.right, ll_list)\n",
    "    \n",
    "    def print_ll(self, ll):\n",
    "        current = ll.head\n",
    "        while current is not None:\n",
    "            print current.data,\n",
    "            current = current.next\n",
    "\n",
    "def main():\n",
    "    arr = [1,2,3,4,5,6,7,8,9,10]\n",
    "    mt = minimal_tree()\n",
    "    mt.insert(arr, 0, len(arr)-1)\n",
    "    for ll in mt.get_ll():\n",
    "        mt.print_ll(ll)\n",
    "        print\n",
    "    \n",
    "if __name__ == '__main__':\n",
    "    main()"
   ]
  },
  {
   "cell_type": "code",
   "execution_count": null,
   "metadata": {
    "collapsed": true
   },
   "outputs": [],
   "source": []
  }
 ],
 "metadata": {
  "kernelspec": {
   "display_name": "Python 2",
   "language": "python",
   "name": "python2"
  },
  "language_info": {
   "codemirror_mode": {
    "name": "ipython",
    "version": 2
   },
   "file_extension": ".py",
   "mimetype": "text/x-python",
   "name": "python",
   "nbconvert_exporter": "python",
   "pygments_lexer": "ipython2",
   "version": "2.7.13"
  }
 },
 "nbformat": 4,
 "nbformat_minor": 2
}
