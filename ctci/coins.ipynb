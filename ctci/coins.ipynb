{
 "cells": [
  {
   "cell_type": "code",
   "execution_count": 41,
   "metadata": {
    "collapsed": false
   },
   "outputs": [
    {
     "name": "stdout",
     "output_type": "stream",
     "text": [
      "Debug 1: 15 25 --> Debug 1: 15 10 --> Debug 1: 15 5 --> Debug 1: 15 1 --> return\n",
      "Debug 1: 10 1 --> return\n",
      "Debug 1: 5 1 --> return\n",
      "Debug 1: 0 1 --> return\n",
      "Debug 1: 5 5 --> Debug 1: 5 1 --> return\n",
      "Debug 1: 0 1 --> return\n"
     ]
    },
    {
     "data": {
      "text/plain": [
       "6"
      ]
     },
     "execution_count": 41,
     "metadata": {},
     "output_type": "execute_result"
    }
   ],
   "source": [
    "def make_change_ctci(amount, denoms, index):\n",
    "    print 'Debug 1:', amount, denoms[index], '-->', \n",
    "    if index >= len(denoms)-1:\n",
    "        print 'return'\n",
    "        return 1\n",
    "    denomAmount = denoms[index]\n",
    "    ways = 0\n",
    "    i = 0\n",
    "    while i * denomAmount <= amount:\n",
    "        amountRem = amount - i*denomAmount\n",
    "        ways += make_change_ctci(amountRem, denoms, index + 1)\n",
    "        i += 1\n",
    "    return ways\n",
    "\n",
    "def make(n):\n",
    "    denoms = [25,10,5,1]\n",
    "    return make_change_ctci(n, denoms, 0)\n",
    "\n",
    "make(15)"
   ]
  },
  {
   "cell_type": "code",
   "execution_count": null,
   "metadata": {
    "collapsed": true
   },
   "outputs": [],
   "source": []
  }
 ],
 "metadata": {
  "kernelspec": {
   "display_name": "Python 2",
   "language": "python",
   "name": "python2"
  },
  "language_info": {
   "codemirror_mode": {
    "name": "ipython",
    "version": 2
   },
   "file_extension": ".py",
   "mimetype": "text/x-python",
   "name": "python",
   "nbconvert_exporter": "python",
   "pygments_lexer": "ipython2",
   "version": "2.7.13"
  }
 },
 "nbformat": 4,
 "nbformat_minor": 2
}
