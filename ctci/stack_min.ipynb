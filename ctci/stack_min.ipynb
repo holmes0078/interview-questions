{
 "cells": [
  {
   "cell_type": "code",
   "execution_count": 9,
   "metadata": {
    "collapsed": true
   },
   "outputs": [],
   "source": [
    "class Stack(object):\n",
    "    def __init__(self):\n",
    "        self.items = []\n",
    "    \n",
    "    def is_empty(self):\n",
    "        return self.items == []\n",
    "    \n",
    "    def push(self, val):\n",
    "        self.items.append(val)\n",
    "        index = len(self.items)-1\n",
    "    \n",
    "        while index > 0 and self.items[index] >= self.items[index-1] :\n",
    "            self.items[index], self.items[index-1] = self.items[index-1], self.items[index]\n",
    "            index -= 1\n",
    "    \n",
    "    def peek(self):\n",
    "        return self.items[len(self.items)-1]\n",
    "    \n",
    "    def minimum(self):\n",
    "        return self.items[len(self.items)-1]\n",
    "    \n",
    "    def pop(self):\n",
    "        self.item.pop()"
   ]
  },
  {
   "cell_type": "code",
   "execution_count": 10,
   "metadata": {},
   "outputs": [
    {
     "name": "stdout",
     "output_type": "stream",
     "text": [
      "[5, 4, 3, 2, 1]\n"
     ]
    }
   ],
   "source": [
    "x = Stack()\n",
    "x.push(1)\n",
    "x.push(2)\n",
    "x.push(3)\n",
    "x.push(4)\n",
    "x.push(5)\n",
    "\n",
    "print x.items"
   ]
  },
  {
   "cell_type": "code",
   "execution_count": null,
   "metadata": {
    "collapsed": true
   },
   "outputs": [],
   "source": []
  }
 ],
 "metadata": {
  "kernelspec": {
   "display_name": "Python 2",
   "language": "python",
   "name": "python2"
  },
  "language_info": {
   "codemirror_mode": {
    "name": "ipython",
    "version": 2
   },
   "file_extension": ".py",
   "mimetype": "text/x-python",
   "name": "python",
   "nbconvert_exporter": "python",
   "pygments_lexer": "ipython2",
   "version": "2.7.13"
  }
 },
 "nbformat": 4,
 "nbformat_minor": 2
}
