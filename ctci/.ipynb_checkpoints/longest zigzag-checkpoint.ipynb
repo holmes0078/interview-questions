{
 "cells": [
  {
   "cell_type": "code",
   "execution_count": 9,
   "metadata": {
    "collapsed": false
   },
   "outputs": [
    {
     "name": "stdout",
     "output_type": "stream",
     "text": [
      "[[1, 1], [2, 1], [1, 1], [1, 1], [1, 1], [1, 1], [1, 1], [1, 1]]\n",
      "\n",
      "[[1, 1], [2, 1], [1, 3], [1, 1], [1, 1], [1, 1], [1, 1], [1, 1]]\n",
      "\n",
      "[[1, 1], [2, 1], [1, 3], [4, 1], [1, 1], [1, 1], [1, 1], [1, 1]]\n",
      "\n",
      "[[1, 1], [2, 1], [1, 3], [4, 1], [4, 1], [1, 1], [1, 1], [1, 1]]\n",
      "\n",
      "[[1, 1], [2, 1], [1, 3], [4, 1], [4, 1], [4, 1], [1, 1], [1, 1]]\n",
      "\n",
      "[[1, 1], [2, 1], [1, 3], [4, 1], [4, 1], [4, 1], [4, 5], [1, 1]]\n",
      "\n",
      "[[1, 1], [2, 1], [1, 3], [4, 1], [4, 1], [4, 1], [4, 5], [6, 1]]\n",
      "\n",
      "6\n"
     ]
    }
   ],
   "source": [
    "def zzis(arr, n):\n",
    "\n",
    "    Z = [[1,1] for i in range(n)]\n",
    "    res = 1\n",
    " \n",
    "    for i in range(1,n):\n",
    "        for j in range(0,i):\n",
    "            \n",
    "            if (arr[j] < arr[i] and Z[i][0] < Z[j][1] + 1):\n",
    "                Z[i][0] = Z[j][1] + 1\n",
    "                \n",
    "            if( arr[j] > arr[i] and Z[i][1] < Z[j][0] + 1):\n",
    "                Z[i][1] = Z[j][0] + 1\n",
    "        \n",
    "        print Z\n",
    "        print\n",
    "        if (res < max(Z[i][0], Z[i][1])):\n",
    "            res = max(Z[i][0], Z[i][1])\n",
    "        \n",
    "    return res\n",
    "\n",
    "def main():\n",
    "    arr = [10, 22, 9, 33, 49, 50, 31, 60]\n",
    "    n = len(arr)\n",
    "    print zzis(arr, n)\n",
    "\n",
    "if __name__ == \"__main__\":\n",
    "    main()"
   ]
  },
  {
   "cell_type": "code",
   "execution_count": 10,
   "metadata": {
    "collapsed": true
   },
   "outputs": [],
   "source": [
    "time = '12:39'"
   ]
  },
  {
   "cell_type": "code",
   "execution_count": 11,
   "metadata": {
    "collapsed": true
   },
   "outputs": [],
   "source": [
    "allowed = {int(x) for x in time if x != ':'}"
   ]
  },
  {
   "cell_type": "code",
   "execution_count": 12,
   "metadata": {
    "collapsed": false
   },
   "outputs": [
    {
     "data": {
      "text/plain": [
       "{1, 2, 3, 9}"
      ]
     },
     "execution_count": 12,
     "metadata": {},
     "output_type": "execute_result"
    }
   ],
   "source": [
    "allowed"
   ]
  },
  {
   "cell_type": "code",
   "execution_count": null,
   "metadata": {
    "collapsed": true
   },
   "outputs": [],
   "source": []
  }
 ],
 "metadata": {
  "kernelspec": {
   "display_name": "Python 2",
   "language": "python",
   "name": "python2"
  },
  "language_info": {
   "codemirror_mode": {
    "name": "ipython",
    "version": 2
   },
   "file_extension": ".py",
   "mimetype": "text/x-python",
   "name": "python",
   "nbconvert_exporter": "python",
   "pygments_lexer": "ipython2",
   "version": "2.7.13"
  }
 },
 "nbformat": 4,
 "nbformat_minor": 2
}
