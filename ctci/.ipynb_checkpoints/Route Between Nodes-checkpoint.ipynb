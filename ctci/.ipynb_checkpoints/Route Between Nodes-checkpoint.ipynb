{
 "cells": [
  {
   "cell_type": "code",
   "execution_count": 8,
   "metadata": {
    "collapsed": false
   },
   "outputs": [
    {
     "name": "stdout",
     "output_type": "stream",
     "text": [
      "True\n",
      "True\n",
      "True\n",
      "True\n",
      "True\n",
      "False\n",
      "False\n",
      "False\n"
     ]
    }
   ],
   "source": [
    "class Graph(object):\n",
    "    def __init__(self):\n",
    "        self.nodes = {}\n",
    "    \n",
    "    def insert(self, source, destination):\n",
    "        if source not in self.nodes:\n",
    "            self.nodes[source] = []\n",
    "        if destination not in self.nodes:\n",
    "            self.nodes[destination] = []\n",
    "        self.nodes[source].append(destination)\n",
    "    \n",
    "    def route_between(self, source, destination):\n",
    "        queue = [source]\n",
    "        visited = {}\n",
    "\n",
    "        while queue:\n",
    "            current = queue.pop(0)\n",
    "            visited[current] = 1\n",
    "            for node in self.nodes[current]:\n",
    "                if node not in visited:\n",
    "                    if node == destination:\n",
    "                        return True\n",
    "                    visited[node] = 1\n",
    "                    queue.append(node)\n",
    "        \n",
    "        return False\n",
    "\n",
    "def main():\n",
    "    G = Graph()\n",
    "    G.insert(0,1)\n",
    "    G.insert(0,2)\n",
    "    G.insert(1,2)\n",
    "    G.insert(1,3)\n",
    "    G.insert(2,3)\n",
    "    G.insert(3,4)\n",
    "    G.insert(2,5)\n",
    "    G.insert(7,6)\n",
    "     \n",
    "    print G.route_between(0,4)\n",
    "    print G.route_between(2,4)\n",
    "    print G.route_between(2,5)\n",
    "    print G.route_between(1,3)\n",
    "    print G.route_between(7,6)\n",
    "    print G.route_between(0,7)\n",
    "    print G.route_between(4,5)\n",
    "    print G.route_between(5,7)\n",
    "\n",
    "if __name__ == \"__main__\":\n",
    "    main()"
   ]
  },
  {
   "cell_type": "code",
   "execution_count": null,
   "metadata": {
    "collapsed": true
   },
   "outputs": [],
   "source": []
  }
 ],
 "metadata": {
  "kernelspec": {
   "display_name": "Python 2",
   "language": "python",
   "name": "python2"
  },
  "language_info": {
   "codemirror_mode": {
    "name": "ipython",
    "version": 2
   },
   "file_extension": ".py",
   "mimetype": "text/x-python",
   "name": "python",
   "nbconvert_exporter": "python",
   "pygments_lexer": "ipython2",
   "version": "2.7.13"
  }
 },
 "nbformat": 4,
 "nbformat_minor": 2
}
