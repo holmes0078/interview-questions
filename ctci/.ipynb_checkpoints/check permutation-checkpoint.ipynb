{
 "cells": [
  {
   "cell_type": "code",
   "execution_count": 4,
   "metadata": {
    "collapsed": false
   },
   "outputs": [
    {
     "name": "stdout",
     "output_type": "stream",
     "text": [
      "Enter String 1: tushar\n",
      "Enter String 2: nayana\n",
      "False\n"
     ]
    }
   ],
   "source": [
    "def check_permutation(str_one, str_two):\n",
    "    if len(str_one) != len(str_two):\n",
    "        return False\n",
    "    if len(str_one) == 0 or len(str_two) == 0:\n",
    "        return False\n",
    "    \n",
    "    hash_table = {}\n",
    "    for char in str_one:\n",
    "        if char in hash_table:\n",
    "            hash_table[char] += 1\n",
    "        else:\n",
    "            hash_table[char] = 1\n",
    "    \n",
    "    for char in str_two:\n",
    "        if char in hash_table:\n",
    "            if hash_table[char] == 0:\n",
    "                return False\n",
    "            else:\n",
    "                hash_table[char] -= 1\n",
    "        else:\n",
    "            return False\n",
    "    for key in hash_table:\n",
    "        if hash_table[key] != 0:\n",
    "            return False\n",
    "    return True\n",
    "\n",
    "def main():\n",
    "    str_one = raw_input('Enter String 1: ')\n",
    "    str_two = raw_input('Enter String 2: ')\n",
    "    print check_permutation(str_one, str_two)\n",
    "\n",
    "if __name__ == \"__main__\":\n",
    "    main()"
   ]
  }
 ],
 "metadata": {
  "kernelspec": {
   "display_name": "Python 2",
   "language": "python",
   "name": "python2"
  },
  "language_info": {
   "codemirror_mode": {
    "name": "ipython",
    "version": 2
   },
   "file_extension": ".py",
   "mimetype": "text/x-python",
   "name": "python",
   "nbconvert_exporter": "python",
   "pygments_lexer": "ipython2",
   "version": "2.7.13"
  }
 },
 "nbformat": 4,
 "nbformat_minor": 2
}
