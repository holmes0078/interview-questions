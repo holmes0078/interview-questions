{
 "cells": [
  {
   "cell_type": "code",
   "execution_count": null,
   "metadata": {
    "collapsed": false
   },
   "outputs": [],
   "source": [
    "# using hash table\n",
    "def is_unique(string):\n",
    "    \n",
    "    if len(string) == 0:\n",
    "        return -1\n",
    "    elif len(string) == 1:\n",
    "        return True\n",
    "    \n",
    "    hash_table = {}\n",
    "    for char in string:\n",
    "        if char in hash_table:\n",
    "            return False\n",
    "        else:\n",
    "            hash_table[char] = 1\n",
    "    return True\n",
    "\n",
    "# without additional data structures\n",
    "def is_unique_no_ds(string):\n",
    "    if len(string) == 0:\n",
    "        return -1\n",
    "    elif len(string) == 1:\n",
    "        return True\n",
    "    \n",
    "    temp = \"\"\n",
    "    for char in sorted(string):\n",
    "        if char == temp:\n",
    "            return False\n",
    "        temp = char\n",
    "    return True\n",
    "    \n",
    "def main():\n",
    "    while True:\n",
    "        string = raw_input()\n",
    "        print is_unique_no_ds(string)\n",
    "\n",
    "if __name__ == \"__main__\":\n",
    "    main()"
   ]
  },
  {
   "cell_type": "code",
   "execution_count": null,
   "metadata": {
    "collapsed": true
   },
   "outputs": [],
   "source": []
  }
 ],
 "metadata": {
  "kernelspec": {
   "display_name": "Python 2",
   "language": "python",
   "name": "python2"
  },
  "language_info": {
   "codemirror_mode": {
    "name": "ipython",
    "version": 2
   },
   "file_extension": ".py",
   "mimetype": "text/x-python",
   "name": "python",
   "nbconvert_exporter": "python",
   "pygments_lexer": "ipython2",
   "version": "2.7.13"
  }
 },
 "nbformat": 4,
 "nbformat_minor": 2
}
