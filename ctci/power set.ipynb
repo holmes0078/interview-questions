{
 "cells": [
  {
   "cell_type": "code",
   "execution_count": 49,
   "metadata": {
    "collapsed": false
   },
   "outputs": [
    {
     "name": "stdout",
     "output_type": "stream",
     "text": [
      "[['2'], ['3', '32'], ['5', '53', '532', '52'], ['6', '65', '653', '6532', '652', '63', '632', '62']]\n"
     ]
    }
   ],
   "source": [
    "def find_subsets(array, index, memo):\n",
    "    memo[index] = [str(array[index])]\n",
    "    i = index\n",
    "    while i != 0:\n",
    "        i -= 1\n",
    "        for k in memo[i]:\n",
    "            memo[index].append(str(memo[index][0])+str(k))\n",
    "\n",
    "def main():\n",
    "    array = [2,3,5,6]\n",
    "    memo = [0]*len(array)\n",
    "    for i in range(len(array)):\n",
    "        find_subsets(array, i, memo)\n",
    "    print memo\n",
    "\n",
    "if __name__ == \"__main__\":\n",
    "    main()"
   ]
  },
  {
   "cell_type": "code",
   "execution_count": null,
   "metadata": {
    "collapsed": true
   },
   "outputs": [],
   "source": []
  }
 ],
 "metadata": {
  "kernelspec": {
   "display_name": "Python 2",
   "language": "python",
   "name": "python2"
  },
  "language_info": {
   "codemirror_mode": {
    "name": "ipython",
    "version": 2
   },
   "file_extension": ".py",
   "mimetype": "text/x-python",
   "name": "python",
   "nbconvert_exporter": "python",
   "pygments_lexer": "ipython2",
   "version": "2.7.13"
  }
 },
 "nbformat": 4,
 "nbformat_minor": 2
}
